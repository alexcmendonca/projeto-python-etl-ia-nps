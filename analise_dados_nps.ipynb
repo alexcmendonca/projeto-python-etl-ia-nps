{
 "cells": [
  {
   "cell_type": "markdown",
   "metadata": {},
   "source": [
    "Análise de Dados explorando o conceito do Net Promoter Score (NPS), uma métrica fundamental para entender a satisfação do cliente."
   ]
  },
  {
   "cell_type": "code",
   "execution_count": null,
   "metadata": {},
   "outputs": [],
   "source": [
    "\"\"\"\n",
    "Este código baixa um arquivo CSV de feedbacks do Google Drive e carrega os dados em um DataFrame pandas.\n",
    "\n",
    "O arquivo é identificado por um ID único ('file_id'), que é extraído da URL do arquivo no Google Drive.\n",
    "A URL do arquivo no Google Drive tem o seguinte formato:\n",
    "https://drive.google.com/file/d/FILE_ID/view?usp=sharing\n",
    "\"\"\""
   ]
  },
  {
   "cell_type": "code",
   "execution_count": 4,
   "metadata": {},
   "outputs": [
    {
     "name": "stderr",
     "output_type": "stream",
     "text": [
      "Downloading...\n",
      "From: https://drive.google.com/uc?id=1_nyLNsT55X37Y0KDBXVXzSYsX-SoSqZi\n",
      "To: /home/alexmend/Documentos/projeto-python-etl-ia-nps/dados/feedbacks.csv\n",
      "100%|██████████| 365/365 [00:00<00:00, 1.70MB/s]\n"
     ]
    }
   ],
   "source": [
    "import gdown\n",
    "import pandas as pd\n",
    "\n",
    "file_id = '1_nyLNsT55X37Y0KDBXVXzSYsX-SoSqZi'\n",
    "gdown.download(f'https://drive.google.com/uc?id={file_id}', 'dados/feedbacks.csv')\n",
    "\n",
    "dados = pd.read_csv('dados/feedbacks.csv', delimiter=';')"
   ]
  },
  {
   "cell_type": "code",
   "execution_count": null,
   "metadata": {},
   "outputs": [],
   "source": [
    "\"\"\"\n",
    "Versão 1: Paradigma Imperativo.\n",
    "\n",
    "Este script lê um arquivo CSV contendo feedback de usuários, no qual cada feedback tem uma nota associada.\n",
    "O NPS é calculado como a diferença entre o percentual de promotores (nota >= 9) e detratores (nota <= 6), multiplicada por 100.\n",
    "A implementação é realizada de uma maneira imperativa, onde os comandos são executados sequencialmente.\n",
    "\"\"\""
   ]
  },
  {
   "cell_type": "code",
   "execution_count": 16,
   "metadata": {},
   "outputs": [],
   "source": [
    "# realizando a leitura da planilha\n",
    "import pandas as pd\n",
    "\n",
    "dados = pd.read_csv('dados/feedbacks.csv', delimiter=';')"
   ]
  },
  {
   "cell_type": "code",
   "execution_count": 17,
   "metadata": {},
   "outputs": [
    {
     "data": {
      "text/html": [
       "<div>\n",
       "<style scoped>\n",
       "    .dataframe tbody tr th:only-of-type {\n",
       "        vertical-align: middle;\n",
       "    }\n",
       "\n",
       "    .dataframe tbody tr th {\n",
       "        vertical-align: top;\n",
       "    }\n",
       "\n",
       "    .dataframe thead th {\n",
       "        text-align: right;\n",
       "    }\n",
       "</style>\n",
       "<table border=\"1\" class=\"dataframe\">\n",
       "  <thead>\n",
       "    <tr style=\"text-align: right;\">\n",
       "      <th></th>\n",
       "      <th>nota</th>\n",
       "      <th>comentario</th>\n",
       "    </tr>\n",
       "  </thead>\n",
       "  <tbody>\n",
       "    <tr>\n",
       "      <th>0</th>\n",
       "      <td>10</td>\n",
       "      <td>Excelente Bootcamp, estou muito satisfeita!</td>\n",
       "    </tr>\n",
       "    <tr>\n",
       "      <th>1</th>\n",
       "      <td>9</td>\n",
       "      <td>Bootcamp top, mas mentorias de IA o tornariam ...</td>\n",
       "    </tr>\n",
       "    <tr>\n",
       "      <th>2</th>\n",
       "      <td>6</td>\n",
       "      <td>Um Bootcamp razoável, torcendo para o próximo ...</td>\n",
       "    </tr>\n",
       "    <tr>\n",
       "      <th>3</th>\n",
       "      <td>10</td>\n",
       "      <td>Bootcamp incrível, continuem potencializando a...</td>\n",
       "    </tr>\n",
       "    <tr>\n",
       "      <th>4</th>\n",
       "      <td>7</td>\n",
       "      <td>O Bootcamp foi ok, nada de especial.</td>\n",
       "    </tr>\n",
       "    <tr>\n",
       "      <th>5</th>\n",
       "      <td>9</td>\n",
       "      <td>Show de bola!</td>\n",
       "    </tr>\n",
       "    <tr>\n",
       "      <th>6</th>\n",
       "      <td>10</td>\n",
       "      <td>Melhor Bootcamp de todos!</td>\n",
       "    </tr>\n",
       "    <tr>\n",
       "      <th>7</th>\n",
       "      <td>0</td>\n",
       "      <td>Horrível!</td>\n",
       "    </tr>\n",
       "  </tbody>\n",
       "</table>\n",
       "</div>"
      ],
      "text/plain": [
       "   nota                                         comentario\n",
       "0    10        Excelente Bootcamp, estou muito satisfeita!\n",
       "1     9  Bootcamp top, mas mentorias de IA o tornariam ...\n",
       "2     6  Um Bootcamp razoável, torcendo para o próximo ...\n",
       "3    10  Bootcamp incrível, continuem potencializando a...\n",
       "4     7               O Bootcamp foi ok, nada de especial.\n",
       "5     9                                      Show de bola!\n",
       "6    10                          Melhor Bootcamp de todos!\n",
       "7     0                                          Horrível!"
      ]
     },
     "execution_count": 17,
     "metadata": {},
     "output_type": "execute_result"
    }
   ],
   "source": [
    "# consultando os dados\n",
    "dados.head(10)"
   ]
  },
  {
   "cell_type": "code",
   "execution_count": 18,
   "metadata": {},
   "outputs": [
    {
     "data": {
      "text/plain": [
       "0    10\n",
       "1     9\n",
       "2     6\n",
       "3    10\n",
       "4     7\n",
       "5     9\n",
       "6    10\n",
       "7     0\n",
       "Name: nota, dtype: int64"
      ]
     },
     "execution_count": 18,
     "metadata": {},
     "output_type": "execute_result"
    }
   ],
   "source": [
    "# identificando qtde de detratores e promotores\n",
    "detratores = 0\n",
    "promotores = 0\n",
    "\n",
    "notas = dados['nota']\n",
    "notas"
   ]
  },
  {
   "cell_type": "code",
   "execution_count": 19,
   "metadata": {},
   "outputs": [],
   "source": [
    "# localizando todas as notas dentro da estrutura de dados e contando a qtde de detratores e promotores\n",
    "# para o nps as notas 7 e 8 são neutras e não estamos utilizamos no cálculo\n",
    "for nota in notas:\n",
    "    if nota >= 9:\n",
    "        promotores += 1\n",
    "    elif nota <= 6:\n",
    "        detratores += 1"
   ]
  },
  {
   "cell_type": "code",
   "execution_count": 20,
   "metadata": {},
   "outputs": [
    {
     "data": {
      "text/plain": [
       "37.5"
      ]
     },
     "execution_count": 20,
     "metadata": {},
     "output_type": "execute_result"
    }
   ],
   "source": [
    "# realizando cálculo nps em porcentagem\n",
    "nps = (promotores - detratores) / len(notas) * 100\n",
    "nps"
   ]
  },
  {
   "cell_type": "code",
   "execution_count": null,
   "metadata": {},
   "outputs": [],
   "source": [
    "\"\"\"\n",
    "Versão 2: Paradigma Funcional.\n",
    "\n",
    "Este código segue uma abordagem funcional para calcular o NPS a partir dos dados de feedback.\n",
    "A função \"calcular_nps\" é definida para encapsular a lógica do cálculo do NPS. Esta versão apresenta\n",
    "uma separação de responsabilidades mais clara do que a versão imperativa, além de melhorias de código pontuais.\n",
    "\"\"\""
   ]
  },
  {
   "cell_type": "code",
   "execution_count": 21,
   "metadata": {},
   "outputs": [
    {
     "data": {
      "text/plain": [
       "37.5"
      ]
     },
     "execution_count": 21,
     "metadata": {},
     "output_type": "execute_result"
    }
   ],
   "source": [
    "import pandas as pd\n",
    "\n",
    "def calcular_nps(notas):\n",
    "\n",
    "    # identificando qtde de detratores e promotores\n",
    "    # para detratores utilizando função apply do pandas com função lambda\n",
    "    detratores = sum(notas.apply(lambda nota: nota <= 6))\n",
    "    # para promotores utilizando tb o pandas mas com conceito de indexação booleana para fazer o count\n",
    "    promotores = notas[notas >= 9].count()\n",
    "\n",
    "    # realizando cálculo nps em porcentagem\n",
    "    return (promotores - detratores) / len(notas) * 100\n",
    "\n",
    "notas = dados['nota']\n",
    "\n",
    "calcular_nps(notas)"
   ]
  },
  {
   "cell_type": "code",
   "execution_count": null,
   "metadata": {},
   "outputs": [],
   "source": [
    "\"\"\"\n",
    "Versão 3: Paradigma Orientado a Objetos (POO).\n",
    "\n",
    "Este script adota uma abordagem Orientada a Objetos (OO) para calcular o NPS a partir de feedback de usuários.\n",
    "Duas classes são definidas, onde:\n",
    "- Feedback representa um único feedback de usuário;\n",
    "- AnalisadorFeedback é usado para calcular o NPS a partir de uma lista de Feedbacks.\n",
    "A POO fornece uma abstração mais clara dos dados e comportamentos envolvidos no cálculo do NPS.\n",
    "Desta forma, a solução estará preparada para as evoluções do nosso projeto.\n",
    "\"\"\""
   ]
  },
  {
   "cell_type": "code",
   "execution_count": 5,
   "metadata": {},
   "outputs": [],
   "source": [
    "import pandas as pd\n",
    "\n",
    "class Feedback:\n",
    "    def __init__(self, nota, comentario):\n",
    "        self.nota = nota\n",
    "        self.comentario = comentario\n",
    "\n",
    "class AnalisadorFeedback:\n",
    "    def __init__(self, feedbacks):\n",
    "        self.feedbacks = feedbacks\n",
    "    \n",
    "    def calcular_nps(self):\n",
    "\n",
    "        # Por ser uma list do Python, aplicando conceito de 'list comprehension' para filtrar os Feedbacks\n",
    "        detratores = sum([1 for feedback in self.feedbacks if feedback.nota <= 6])\n",
    "        promotores = sum([1 for feedback in self.feedbacks if feedback.nota >= 9])\n",
    "\n",
    "        nps = (promotores - detratores) / len(self.feedbacks) * 100\n",
    "\n",
    "        return nps\n",
    "\n",
    "# Convertendo os dados dentro do Dataframe com lista de notas para uma lista de feedbacks\n",
    "feedbacks = [Feedback(linha['nota'], linha['comentario']) for indice, linha in dados.iterrows()]"
   ]
  },
  {
   "cell_type": "code",
   "execution_count": 23,
   "metadata": {},
   "outputs": [
    {
     "data": {
      "text/plain": [
       "[<__main__.Feedback at 0x7f9b610fe200>,\n",
       " <__main__.Feedback at 0x7f9b610ff1c0>,\n",
       " <__main__.Feedback at 0x7f9b610ff4c0>,\n",
       " <__main__.Feedback at 0x7f9b610fe560>,\n",
       " <__main__.Feedback at 0x7f9b610ffd30>,\n",
       " <__main__.Feedback at 0x7f9b610ffd90>,\n",
       " <__main__.Feedback at 0x7f9b610ffaf0>,\n",
       " <__main__.Feedback at 0x7f9b610ffa90>]"
      ]
     },
     "execution_count": 23,
     "metadata": {},
     "output_type": "execute_result"
    }
   ],
   "source": [
    "# verificando se os objetos estão sendo carregados\n",
    "feedbacks"
   ]
  },
  {
   "cell_type": "code",
   "execution_count": 6,
   "metadata": {},
   "outputs": [
    {
     "name": "stdout",
     "output_type": "stream",
     "text": [
      "10\n",
      "9\n",
      "6\n",
      "10\n",
      "7\n",
      "9\n",
      "10\n",
      "0\n"
     ]
    }
   ],
   "source": [
    "# Consultando se os dados estão sendo armazenados corretamente\n",
    "for feedback in feedbacks:\n",
    "    print(feedback.nota)"
   ]
  },
  {
   "cell_type": "code",
   "execution_count": 7,
   "metadata": {},
   "outputs": [
    {
     "name": "stdout",
     "output_type": "stream",
     "text": [
      "Excelente Bootcamp, estou muito satisfeita!\n",
      "Bootcamp top, mas mentorias de IA o tornariam perfeito.\n",
      "Um Bootcamp razoável, torcendo para o próximo ser de Python.\n",
      "Bootcamp incrível, continuem potencializando a educação aberta!\n",
      "O Bootcamp foi ok, nada de especial.\n",
      "Show de bola!\n",
      "Melhor Bootcamp de todos!\n",
      "Horrível!\n"
     ]
    }
   ],
   "source": [
    "# Consultando se os dados estão sendo armazenados corretamente\n",
    "for feedback in feedbacks:\n",
    "    print(feedback.comentario)"
   ]
  },
  {
   "cell_type": "code",
   "execution_count": 8,
   "metadata": {},
   "outputs": [
    {
     "data": {
      "text/plain": [
       "37.5"
      ]
     },
     "execution_count": 8,
     "metadata": {},
     "output_type": "execute_result"
    }
   ],
   "source": [
    "# Instanciando AnalisadorFeedback e calculando nps\n",
    "analisador = AnalisadorFeedback(feedbacks)\n",
    "nps = analisador.calcular_nps()\n",
    "nps"
   ]
  },
  {
   "cell_type": "markdown",
   "metadata": {},
   "source": [
    "Extração dados do NPS e aplicar as técnicas de ETL (Extração, Transformação e Carregamento) nesses dados. Com a ajuda da biblioteca matplotlib, será criado um gráfico para visualizar e compreender o nível de satisfação dos usuários. Para conseguir entregar valor da informação e contribuir na tomada de descisão"
   ]
  },
  {
   "cell_type": "code",
   "execution_count": 9,
   "metadata": {},
   "outputs": [],
   "source": [
    "import matplotlib.pyplot as plt\n",
    "import matplotlib.patches as mpatches\n",
    "\n",
    "# Definição das constantes que usaremos para visualizar o NPS\n",
    "NPS_ZONAS =   ['Crítico', 'Aperfeiçoamento', 'Qualidade', 'Excelência']\n",
    "NPS_VALORES = [-100, 0, 50, 75, 100]\n",
    "NPS_CORES =   ['#FF595E', '#FFCA3A', '#8AC926', '#1982C4']"
   ]
  },
  {
   "cell_type": "code",
   "execution_count": 10,
   "metadata": {},
   "outputs": [
    {
     "data": {
      "image/png": "[encoded data removed]",
      "text/plain": [
       "<Figure size 1000x200 with 1 Axes>"
      ]
     },
     "metadata": {},
     "output_type": "display_data"
    }
   ],
   "source": [
    "# Criar um gráfico usando \"matplotlib\" para visualizar o NPS calculado\n",
    "def criar_grafico_nps(nps):\n",
    "    fig, ax = plt.subplots(figsize=(10, 2))\n",
    "\n",
    "    for i, zona in enumerate(NPS_ZONAS):\n",
    "        ax.barh([0], width=NPS_VALORES[i+1]-NPS_VALORES[i], left=NPS_VALORES[i], color=NPS_CORES[i])\n",
    "\n",
    "    # plotando o valor do nps\n",
    "    ax.barh([0], width=1, left=nps, color='black')\n",
    "\n",
    "    # removendo valores do eixo y\n",
    "    ax.set_yticks([])\n",
    "\n",
    "    # delimitando o tamanho do gráfico para ajustar com o valor do eixo x\n",
    "    ax.set_xlim(-100, 100)\n",
    "\n",
    "    # removendo valores intermediários do eixo x\n",
    "    ax.set_xticks(NPS_VALORES)\n",
    "\n",
    "    # colocando no gráfico o texto e valor do NPS com alinhamento e 0 casas decimais\n",
    "    plt.text(nps, 0, f'NPS = {nps:.0f}', ha='center', va='center', color='white', bbox=dict(facecolor='black'))\n",
    "\n",
    "    # com a biblioteca de mpatches para criar legenda navegando pelos índices\n",
    "    patches = [mpatches.Patch(color=NPS_CORES[i], label=NPS_ZONAS[i]) for i in range(len(NPS_ZONAS))]\n",
    "    plt.legend(handles=patches, bbox_to_anchor=(1,1))\n",
    "\n",
    "    # inserindo título no gráfico\n",
    "    plt.title('Gráfico de NPS')\n",
    "\n",
    "    plt.show()\n",
    "\n",
    "criar_grafico_nps(nps)"
   ]
  },
  {
   "cell_type": "markdown",
   "metadata": {},
   "source": [
    "Utilizar as técnicas de Processamento de Linguagem Natural (PLN) para analisar os sentimentos expressos nos comentários associados às notas de NPS. Dessa forma, teremos uma perspectiva qualitativa que complementa os dados quantitativos."
   ]
  },
  {
   "cell_type": "code",
   "execution_count": 13,
   "metadata": {},
   "outputs": [],
   "source": [
    "import os\n",
    "from dotenv import load_dotenv\n",
    "# Documentação Oficial da API OpenAI: https://platform.openai.com/docs/api-reference/introduction\n",
    "# Informações sobre o Período Gratuito: https://help.openai.com/en/articles/4936830\n",
    "\n",
    "# Para gerar uma API Key:\n",
    "# 1. Crie uma conta na OpenAI\n",
    "# 2. Acesse a seção \"API Keys\"\n",
    "# 3. Clique em \"Create API Key\"\n",
    "# Link direto: https://platform.openai.com/account/api-keys\n",
    "\n",
    "# Utilizando arquivo .env para armazenar dados sensíveis e carregando as variáveis deste arquivo\n",
    "load_dotenv()\n",
    "openai_api_key = os.getenv('openai_api_key')"
   ]
  },
  {
   "cell_type": "code",
   "execution_count": null,
   "metadata": {},
   "outputs": [],
   "source": [
    "\"\"\"\n",
    "Integrar com o ChatGPT e usá-lo como um modelo para análise de sentimentos dos comentários.\n",
    "Seguem alguns links úteis:\n",
    "1. Endpoint que será consumido: https://platform.openai.com/docs/api-reference/chat/create\n",
    "2. Collection Postman da OpenAI: https://www.postman.com/devrel/workspace/openai/documentation/13183464-90abb798-cb85-43cb-ba3a-ae7941e968da\n",
    "\"\"\""
   ]
  },
  {
   "cell_type": "code",
   "execution_count": 16,
   "metadata": {},
   "outputs": [],
   "source": [
    "# pip install openai==0.28\n",
    "# Todo o código abaixo foi baseado na versão acima da biblioteca openai"
   ]
  },
  {
   "cell_type": "code",
   "execution_count": 14,
   "metadata": {},
   "outputs": [],
   "source": [
    "import openai\n",
    "\n",
    "openai.api_key = openai_api_key\n",
    "\n",
    "def analisar_sentimentos(feedbacks):\n",
    "\n",
    "    comentarios_formatados = \"\\n\".join([f\"- Nota {feedback.nota}! {feedback.comentario}\" for feedback in feedbacks])\n",
    "\n",
    "    # info q o chatgpt receberá para enviar resposta\n",
    "    prompt = f\"\"\"\n",
    "            Sintetize uma análise geral sobre os seguintes comentário:\n",
    "            {comentarios_formatados}\n",
    "            \"\"\"\n",
    "\n",
    "    # consumindo endpoint ChatCompletion\n",
    "    respostaAPI = openai.ChatCompletion.create(\n",
    "        model=\"gpt-4\",\n",
    "        messages=[\n",
    "        {\n",
    "            \"role\": \"system\",\n",
    "            \"content\": \"Você é um modelo de análise de sentimentos com foco em feedbacks sobre experiências educacionais.\"\n",
    "        },\n",
    "        {\n",
    "            \"role\": \"user\",\n",
    "            \"content\": prompt\n",
    "        }\n",
    "        ]\n",
    "    )\n",
    "    # Percorrendo a estrutura de dados conforme orientação API chatgpt e pegando apenas a resposta em texto\n",
    "    return respostaAPI.choices[0].message.content\n",
    "\n",
    "insights = analisar_sentimentos(feedbacks)"
   ]
  },
  {
   "cell_type": "code",
   "execution_count": 15,
   "metadata": {},
   "outputs": [
    {
     "data": {
      "text/plain": [
       "'A análise dos comentários indica que a percepção geral deste bootcamp é predominantemente positiva, com a maioria das respostas apresentando alta pontuação (notas entre 6 a 10), elogiando a qualidade e eficácia do programa. Sua importância para a educação aberta também foi ressaltada. Por outro lado, alguns feedbacks sugerem que há espaço para melhoria. De particular, os participantes gostariam de ver inclusos tópicos como Inteligência Artificial e linguagem de programação Python. Além disso, um feedback foi extremamente negativo (nota 0), mas não detalhou as razões específicas dessa insatisfação, tornando difícil identificar as áreas de melhoria diretamente desse comentário. No geral, embora haja espaço para melhorar algumas áreas, o bootcamp é altamente valorizado pelos seus participantes.'"
      ]
     },
     "execution_count": 15,
     "metadata": {},
     "output_type": "execute_result"
    }
   ],
   "source": [
    "insights"
   ]
  }
 ],
 "metadata": {
  "kernelspec": {
   "display_name": "venv",
   "language": "python",
   "name": "python3"
  },
  "language_info": {
   "codemirror_mode": {
    "name": "ipython",
    "version": 3
   },
   "file_extension": ".py",
   "mimetype": "text/x-python",
   "name": "python",
   "nbconvert_exporter": "python",
   "pygments_lexer": "ipython3",
   "version": "3.10.12"
  }
 },
 "nbformat": 4,
 "nbformat_minor": 2
}
